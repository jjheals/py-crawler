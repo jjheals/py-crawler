{
 "cells": [
  {
   "cell_type": "code",
   "execution_count": 1,
   "metadata": {},
   "outputs": [],
   "source": [
    "from data_analysis.Indexer import Indexer\n",
    "from rss_feed.RSS import RSS_Article\n"
   ]
  },
  {
   "cell_type": "code",
   "execution_count": 2,
   "metadata": {},
   "outputs": [
    {
     "name": "stdout",
     "output_type": "stream",
     "text": [
      "Init Indexer: \n",
      "\tNum terms: 24331\n",
      "\tNum articles: 979\n"
     ]
    }
   ],
   "source": [
    "indexer = Indexer()"
   ]
  },
  {
   "cell_type": "markdown",
   "metadata": {},
   "source": [
    "#### Testing AND operation"
   ]
  },
  {
   "cell_type": "code",
   "execution_count": 3,
   "metadata": {},
   "outputs": [
    {
     "name": "stdout",
     "output_type": "stream",
     "text": [
      "AND QUERY: \"Lazarus North Korea\"\n",
      "['lazarus', 'north', 'korea']\n",
      "0.01808785529715762: {'article_title': 'UK and South Korea: Hackers use zero-day in supply-chain attack', 'article_link': 'https://www.bleepingcomputer.com/news/security/uk-and-south-korea-hackers-use-zero-day-in-supply-chain-attack/', 'article_pub_date': 'Fri, 24 Nov 2023 12:28:14 -0500', 'article_num_terms': 1161, 'article_outlinks': ['https://www.bleepingcomputer.com/rss-feeds/', 'https://www.bleepingcomputer.com/news/security/windows-hello-auth-bypassed-on-microsoft-dell-lenovo-laptops/', 'https://www.bleepingcomputer.com/forums/index.php?app=core&module=global&section=login&serviceClick=twitter&return=https://www.bleepingcomputer.com/news/security/uk-and-south-korea-hackers-use-zero-day-in-supply-chain-attack/', 'https://www.bleepingcomputer.com/uninstall/', 'https://www.bleepingcomputer.com/download/auroradecrypter/', 'https://www.bleepingcomputer.com/news/google/google-drive-users-angry-over-losing-months-of-stored-data/', 'https://www.bleepingcomputer.com/contact/', 'https://www.bleepingcomputer.com/news/security/north-korean-hackers-exploit-critical-teamcity-flaw-to-breach-networks/', 'https://www.bleepingcomputer.com/tag/vulnerability/', 'https://www.bleepingcomputer.com/tag/zero-day/', 'https://www.bleepingcomputer.com/news/security/cyberattack-on-it-provider-cts-impacts-dozens-of-uk-law-firms/', 'https://twitter.com/BleepinComputer', 'https://www.facebook.com/BleepingComputer', 'https://www.bleepingcomputer.com/news/security/google-hackers-exploited-zimbra-zero-day-in-attacks-on-govt-orgs/', 'https://www.bleepingcomputer.com/download/stopdecrypter/', 'https://www.bleepingcomputer.com/news/security/new-rust-based-sysjoker-backdoor-linked-to-hamas-hackers/', 'https://www.bleepingcomputer.com/welcome-guide/', 'https://www.bleepingcomputer.com/vpn/', 'https://www.bleepingcomputer.com/vpn/guides/watch-youtube-tv-abroad-vpn/', 'https://www.bleepingcomputer.com/vpn/guides/best-vpn/', 'https://deals.bleepingcomputer.com/', 'https://www.cisa.gov/news-events/cybersecurity-advisories/aa23-040a', 'https://www.bleepingcomputer.com/tag/lazarus-group/', 'https://www.bleepingcomputer.com/terms-of-use/', 'https://www.bleepingcomputer.com/author/bill-toulas/', 'https://twitter.com/billtoulas', 'https://www.bleepingcomputer.com/ethics-statement/', 'https://infosec.exchange/@BleepingComputer', 'https://www.documentcloud.org/documents/24174869-rok-uk-joint-cyber-security-advisoryeng', 'https://www.bleepingcomputer.com/news/security/hackers-compromise-3cx-desktop-app-in-a-supply-chain-attack/', 'https://www.bleepingcomputer.com/tag/north-korea/', 'https://www.bleepingcomputer.com/tutorials/', 'https://www.bleepingcomputer.com/news/security/general-electric-investigates-claims-of-cyber-attack-data-theft/', 'https://www.bleepingcomputer.com/startups/', 'https://www.bleepingcomputer.com/write-for-bleepingcomputer/', 'https://www.bleepingcomputer.com/download/qualys-browsercheck/', 'https://www.bleepingcomputer.com/privacy/', 'https://www.youtube.com/user/BleepingComputer', 'https://www.bleepingcomputer.com/news/security/malware-dev-says-they-can-revive-expired-google-auth-cookies/', 'https://www.bleepingcomputer.com/about/', 'https://www.bleepingcomputer.com/', 'https://www.ncsc.go.kr:4018/main/cop/bbs/selectBoardArticle.do?bbsId=SecurityAdvice_main&nttId=88018', 'https://asec.ahnlab.com/wp-content/uploads/2023/10/20231013_Lazarus_OP.Dream_Magic.pdf', 'https://www.bleepingcomputer.com/vpn/guides/access-dark-web-safely/', 'https://www.bleepingcomputer.com/news/', 'https://deals.bleepingcomputer.com/collections/tag-cyber-security?utm_source=bleepingcomputer.com&utm_medium=dd_cat', 'https://www.bleepingcomputer.com/affiliate-disclosure/', 'https://www.bleepingcomputer.com/news/security/lazarus-hackers-breached-dev-repeatedly-to-deploy-signbt-malware/', 'https://www.bleepingcomputer.com/tag/magicline4nx/', 'https://deals.bleepingcomputer.com/deals/certifications?utm_source=bleepingcomputer.com&utm_medium=dd_cat', 'https://www.bleepingcomputer.com/news/security/microsoft-lazarus-hackers-breach-cyberlink-in-supply-chain-attack/', 'https://www.bleepingcomputer.com/tag/supply-chain-attack/', 'https://www.bleepingcomputer.com/changelog/', 'https://www.bleepingcomputer.com/advertise/', 'https://www.bleepingcomputer.com/forums/index.php?app=core&module=global§ion=register', 'https://www.bleepingcomputer.com/download/', 'https://www.bleepingcomputer.com/download/fileslockerdecrypter/', 'https://www.bleepingcomputer.com/forums/t/730914/the-bleepingcomputer-official-discord-chat-server-come-join-the-fun/', 'https://www.bleepingcomputer.com/news/microsoft/microsoft-november-2023-patch-tuesday-fixes-5-zero-days-58-flaws/', 'https://www.bleepingcomputer.com/sitemap/', 'https://www.bleepingcomputer.com/news-tip/', 'https://www.bleepingcomputer.com/news/security/critical-bug-in-owncloud-file-sharing-app-exposes-admin-passwords/', 'https://www.bleepingcomputer.com/virus-removal/', 'https://www.bleepingcomputer.com/glossary/', 'https://www.bleepingcomputer.com/news/security/uk-and-south-korea-hackers-use-zero-day-in-supply-chain-attack/', 'https://www.bleepingcomputer.com/vpn/guides/change-ip-address/', 'https://www.bleepingcomputer.com/offer/deals/learn-azure-at-your-own-pace-with-77-off-this-exam-prep-bundle/', 'https://deals.bleepingcomputer.com/deals/gear-gadgets?utm_source=bleepingcomputer.com&utm_medium=dd_cat', 'https://deals.bleepingcomputer.com/deals/elearning?utm_source=bleepingcomputer.com&utm_medium=dd_cat', 'https://www.bleepingcomputer.com/news/security/atomic-stealer-malware-strikes-macos-via-fake-browser-updates/', 'https://www.bleepingcomputer.com/forum-rules/', 'https://www.bleepingcomputer.com/news/security/', 'https://www.bleepingcomputer.com/posting-guidelines/', 'https://www.bleepingcomputer.com/feed/', 'https://www.bleepingcomputer.com/tag/supply-chain/', 'https://www.bleepingcomputer.com/news/security/leveraging-wazuh-to-combat-insider-threats/', 'https://www.bleepingcomputer.com/forums/']}\n"
     ]
    }
   ],
   "source": [
    "query1 = \"Lazarus North Korea\" \n",
    "\n",
    "results1 = indexer.search_index(query1)\n",
    "for k,v in results1.items(): print(f\"{k}: {v}\")"
   ]
  },
  {
   "cell_type": "code",
   "execution_count": 4,
   "metadata": {},
   "outputs": [
    {
     "name": "stdout",
     "output_type": "stream",
     "text": [
      "AND QUERY: \"Russia\"\n",
      "['russia']\n",
      "0.001455604075691412: ARTICLE: \"Tesla overtaken by China's BYD as biggest EV maker\"\n",
      "\tLink: https://www.ft.com/content/716c9b0b-d8cd-491a-a91b-d70c1e540797\n",
      "\tNum Terms: 687\n",
      "\tNum Outlinks: 47\n",
      "0.0009962143853357243: ARTICLE: \"How to Verify Leak Data?\"\n",
      "\tLink: https://techjournalism.medium.com/how-to-verify-leak-data-3b0c8d8b764a\n",
      "\tNum Terms: 5019\n",
      "\tNum Outlinks: 80\n",
      "0.00036900369003690036: ARTICLE: \"The biggest cybersecurity and cyberattack stories of 2023\"\n",
      "\tLink: https://www.bleepingcomputer.com/news/security/the-biggest-cybersecurity-and-cyberattack-stories-of-2023/\n",
      "\tNum Terms: 2710\n",
      "\tNum Outlinks: 119\n",
      "1.8953752843062928e-05: ARTICLE: \"Cost of War [pdf]\"\n",
      "\tLink: https://watson.brown.edu/costsofwar/files/cow/imce/papers/2023/Hartung-%20Chinese%20Military%20Spending%20in%20Context.docx.pdf\n",
      "\tNum Terms: 52760\n",
      "\tNum Outlinks: 0\n"
     ]
    }
   ],
   "source": [
    "query2 = \"Russia\"\n",
    "results2 = indexer.search_index(query2)\n",
    "for k,v in results2.items(): print(f\"{k}: {RSS_Article.article_from_dict(v).to_string()}\")"
   ]
  },
  {
   "cell_type": "code",
   "execution_count": 5,
   "metadata": {},
   "outputs": [
    {
     "name": "stdout",
     "output_type": "stream",
     "text": [
      "AND QUERY: \"Biden\"\n",
      "['biden']\n",
      "0.004206098843322818: ARTICLE: \"Department of Commerce Announces New Actions to Implement President Biden’s Executive Order on AI\"\n",
      "\tLink: https://www.nist.gov/news-events/news/2024/04/department-commerce-announces-new-actions-implement-president-bidens\n",
      "\tNum Terms: 951\n",
      "\tNum Outlinks: 32\n",
      "0.003926701570680628: ARTICLE: \"U.S. Secretary of Commerce Gina Raimondo Releases Strategic Vision on AI Safety, Announces Plan for Global Cooperation Among AI Safety Institutes\"\n",
      "\tLink: https://www.nist.gov/news-events/news/2024/05/us-secretary-commerce-gina-raimondo-releases-strategic-vision-ai-safety\n",
      "\tNum Terms: 764\n",
      "\tNum Outlinks: 25\n",
      "0.0035671819262782403: ARTICLE: \"Biden-Harris Administration Announces Final National Security Guardrails for CHIPS for America Incentives Program\"\n",
      "\tLink: https://www.nist.gov/news-events/news/2023/09/biden-harris-administration-announces-final-national-security-guardrails\n",
      "\tNum Terms: 1682\n",
      "\tNum Outlinks: 35\n",
      "0.0017657445556209534: ARTICLE: \"Department of Commerce Announces New Guidance, Tools 270 Days Following President Biden’s Executive Order on AI\"\n",
      "\tLink: https://www.nist.gov/news-events/news/2024/07/department-commerce-announces-new-guidance-tools-270-days-following\n",
      "\tNum Terms: 1699\n",
      "\tNum Outlinks: 34\n",
      "0.001451378809869376: ARTICLE: \"DHS Cybersecurity and Infrastructure Security Agency Releases Roadmap for Artificial Intelligence \"\n",
      "\tLink: https://www.cisa.gov/news-events/news/dhs-cybersecurity-and-infrastructure-security-agency-releases-roadmap-artificial-intelligence\n",
      "\tNum Terms: 1378\n",
      "\tNum Outlinks: 22\n",
      "0.0013020833333333333: ARTICLE: \"Department of Commerce to Undertake Key Responsibilities in Historic Artificial Intelligence Executive Order\"\n",
      "\tLink: https://www.nist.gov/news-events/news/2023/10/department-commerce-undertake-key-responsibilities-historic-artificial\n",
      "\tNum Terms: 768\n",
      "\tNum Outlinks: 28\n",
      "0.0012987012987012987: ARTICLE: \"CISA Signs Memorandum of Understanding with the Republic of Korea to Share Cyber Threat Information and Cybersecurity Best Practices \"\n",
      "\tLink: https://www.cisa.gov/news-events/news/cisa-signs-memorandum-understanding-republic-korea-share-cyber-threat-information-and-cybersecurity\n",
      "\tNum Terms: 770\n",
      "\tNum Outlinks: 19\n",
      "0.001076426264800861: ARTICLE: \"NIST Launches ARIA, a New Program to Advance Sociotechnical Testing and Evaluation for AI\"\n",
      "\tLink: https://www.nist.gov/news-events/news/2024/05/nist-launches-aria-new-program-advance-sociotechnical-testing-and\n",
      "\tNum Terms: 929\n",
      "\tNum Outlinks: 26\n",
      "0.0010427528675703858: ARTICLE: \"NIST Calls for Information to Support Safe, Secure and Trustworthy Development and Use of Artificial Intelligence\"\n",
      "\tLink: https://www.nist.gov/news-events/news/2023/12/nist-calls-information-support-safe-secure-and-trustworthy-development-and\n",
      "\tNum Terms: 959\n",
      "\tNum Outlinks: 27\n",
      "0.0008237232289950577: ARTICLE: \"DHS CISA and UK NCSC Release Joint Guidelines for Secure AI System Development\"\n",
      "\tLink: https://www.cisa.gov/news-events/news/dhs-cisa-and-uk-ncsc-release-joint-guidelines-secure-ai-system-development\n",
      "\tNum Terms: 1214\n",
      "\tNum Outlinks: 23\n",
      "0.0008064516129032258: ARTICLE: \"Nonprofit Tech Startups Are Neither nor Destined to Flame Out\"\n",
      "\tLink: https://news.crunchbase.com/startups/openai-nonprofit-tech-accelerators-yc-fast-forward/\n",
      "\tNum Terms: 1240\n",
      "\tNum Outlinks: 120\n",
      "0.0007479431563201197: ARTICLE: \"NIST Participates in White House Summit on Standards for Critical and Emerging Technology\"\n",
      "\tLink: https://www.nist.gov/news-events/news/2024/07/nist-participates-white-house-summit-standards-critical-and-emerging\n",
      "\tNum Terms: 1337\n",
      "\tNum Outlinks: 28\n",
      "3.7907505686125855e-05: ARTICLE: \"Cost of War [pdf]\"\n",
      "\tLink: https://watson.brown.edu/costsofwar/files/cow/imce/papers/2023/Hartung-%20Chinese%20Military%20Spending%20in%20Context.docx.pdf\n",
      "\tNum Terms: 52760\n",
      "\tNum Outlinks: 0\n"
     ]
    }
   ],
   "source": [
    "query3 = \"Biden\"\n",
    "results3 = indexer.search_index(query3)\n",
    "for k,v in results3.items(): print(f\"{k}: {RSS_Article.article_from_dict(v).to_string()}\")"
   ]
  },
  {
   "cell_type": "markdown",
   "metadata": {},
   "source": [
    "#### Testing OR operation"
   ]
  },
  {
   "cell_type": "code",
   "execution_count": 6,
   "metadata": {},
   "outputs": [
    {
     "name": "stdout",
     "output_type": "stream",
     "text": [
      "OR QUERY: \"Lazarus\"\n",
      "['lazarus']\n",
      "5.935065927454205e-06: ARTICLE: \"UK and South Korea: Hackers use zero-day in supply-chain attack\"\n",
      "\tLink: https://www.bleepingcomputer.com/news/security/uk-and-south-korea-hackers-use-zero-day-in-supply-chain-attack/\n",
      "\tNum Terms: 1161\n",
      "\tNum Outlinks: 77\n",
      "1.3616372326084885e-07: ARTICLE: \"The biggest cybersecurity and cyberattack stories of 2023\"\n",
      "\tLink: https://www.bleepingcomputer.com/news/security/the-biggest-cybersecurity-and-cyberattack-stories-of-2023/\n",
      "\tNum Terms: 2710\n",
      "\tNum Outlinks: 119\n"
     ]
    }
   ],
   "source": [
    "query4 = \"Lazarus\"\n",
    "results4 = indexer.search_index(query4, op=Indexer.OR_OP)\n",
    "for k,v in results4.items(): print(f\"{k}: {RSS_Article.article_from_dict(v).to_string()}\")"
   ]
  }
 ],
 "metadata": {
  "kernelspec": {
   "display_name": "Python 3",
   "language": "python",
   "name": "python3"
  },
  "language_info": {
   "codemirror_mode": {
    "name": "ipython",
    "version": 3
   },
   "file_extension": ".py",
   "mimetype": "text/x-python",
   "name": "python",
   "nbconvert_exporter": "python",
   "pygments_lexer": "ipython3",
   "version": "3.11.1"
  }
 },
 "nbformat": 4,
 "nbformat_minor": 2
}
