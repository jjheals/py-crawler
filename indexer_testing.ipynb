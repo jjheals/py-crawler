{
 "cells": [
  {
   "cell_type": "code",
   "execution_count": 1,
   "metadata": {},
   "outputs": [],
   "source": [
    "from data_analysis.Indexer import Indexer\n",
    "from rss_feed.RSS import RSS_Article\n"
   ]
  },
  {
   "cell_type": "code",
   "execution_count": 2,
   "metadata": {},
   "outputs": [
    {
     "name": "stdout",
     "output_type": "stream",
     "text": [
      "Init Indexer: \n",
      "\tNum terms: 21058\n",
      "\tNum articles: 529\n"
     ]
    }
   ],
   "source": [
    "indexer = Indexer()"
   ]
  },
  {
   "cell_type": "markdown",
   "metadata": {},
   "source": [
    "#### Testing AND operation"
   ]
  },
  {
   "cell_type": "code",
   "execution_count": null,
   "metadata": {},
   "outputs": [],
   "source": [
    "query1 = \"Lazarus North Korea\" \n",
    "\n",
    "results1 = indexer.search_index(query1)\n",
    "for k,v in results1.items(): print(f\"{k}: {v}\")"
   ]
  },
  {
   "cell_type": "code",
   "execution_count": null,
   "metadata": {},
   "outputs": [],
   "source": [
    "query2 = \"Russia\"\n",
    "results2 = indexer.search_index(query2)\n",
    "for k,v in results2.items(): print(f\"{k}: {RSS_Article.article_from_dict(v).to_string()}\")"
   ]
  },
  {
   "cell_type": "code",
   "execution_count": null,
   "metadata": {},
   "outputs": [],
   "source": [
    "query3 = \"Biden\"\n",
    "results3 = indexer.search_index(query3)\n",
    "for k,v in results3.items(): print(f\"{k}: {RSS_Article.article_from_dict(v).to_string()}\")"
   ]
  },
  {
   "cell_type": "markdown",
   "metadata": {},
   "source": [
    "#### Testing OR operation"
   ]
  },
  {
   "cell_type": "code",
   "execution_count": 6,
   "metadata": {},
   "outputs": [
    {
     "name": "stdout",
     "output_type": "stream",
     "text": [
      "OR QUERY: \"Lazarus\"\n",
      "['lazarus']\n",
      "5.935065927454205e-06: ARTICLE: \"UK and South Korea: Hackers use zero-day in supply-chain attack\"\n",
      "\tLink: https://www.bleepingcomputer.com/news/security/uk-and-south-korea-hackers-use-zero-day-in-supply-chain-attack/\n",
      "\tNum Terms: 1161\n",
      "\tNum Outlinks: 77\n",
      "1.3616372326084885e-07: ARTICLE: \"The biggest cybersecurity and cyberattack stories of 2023\"\n",
      "\tLink: https://www.bleepingcomputer.com/news/security/the-biggest-cybersecurity-and-cyberattack-stories-of-2023/\n",
      "\tNum Terms: 2710\n",
      "\tNum Outlinks: 119\n"
     ]
    }
   ],
   "source": [
    "query4 = \"Lazarus\"\n",
    "results4 = indexer.search_index(query4, op=Indexer.OR_OP)\n",
    "for k,v in results4.items(): print(f\"{k}: {RSS_Article.article_from_dict(v).to_string()}\")"
   ]
  }
 ],
 "metadata": {
  "kernelspec": {
   "display_name": "Python 3",
   "language": "python",
   "name": "python3"
  },
  "language_info": {
   "codemirror_mode": {
    "name": "ipython",
    "version": 3
   },
   "file_extension": ".py",
   "mimetype": "text/x-python",
   "name": "python",
   "nbconvert_exporter": "python",
   "pygments_lexer": "ipython3",
   "version": "3.11.1"
  }
 },
 "nbformat": 4,
 "nbformat_minor": 2
}
