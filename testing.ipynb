{
 "cells": [
  {
   "cell_type": "code",
   "execution_count": 1,
   "metadata": {},
   "outputs": [],
   "source": [
    "from Crawler import Crawler\n",
    "from Paths import Paths\n",
    "from rss_feed.RSS import *"
   ]
  },
  {
   "cell_type": "code",
   "execution_count": 2,
   "metadata": {},
   "outputs": [
    {
     "name": "stderr",
     "output_type": "stream",
     "text": [
      "[nltk_data] Downloading package stopwords to\n",
      "[nltk_data]     /Users/jjheals/nltk_data...\n",
      "[nltk_data]   Package stopwords is already up-to-date!\n"
     ]
    },
    {
     "data": {
      "text/plain": [
       "True"
      ]
     },
     "execution_count": 2,
     "metadata": {},
     "output_type": "execute_result"
    }
   ],
   "source": [
    "import nltk\n",
    "import ssl\n",
    "\n",
    "try:\n",
    "    _create_unverified_https_context = ssl._create_unverified_context\n",
    "except AttributeError:\n",
    "    pass\n",
    "else:\n",
    "    ssl._create_default_https_context = _create_unverified_https_context\n",
    "\n",
    "nltk.download('stopwords')"
   ]
  },
  {
   "cell_type": "code",
   "execution_count": 2,
   "metadata": {},
   "outputs": [
    {
     "name": "stdout",
     "output_type": "stream",
     "text": [
      "Indexing Bleeping Computer (https://www.bleepingcomputer.com/feed/)\n"
     ]
    }
   ],
   "source": [
    "url = 'https://www.bleepingcomputer.com/feed/'\n",
    "crawler = Crawler(auto_index_feeds=True, load_storage=False)"
   ]
  },
  {
   "cell_type": "code",
   "execution_count": 3,
   "metadata": {},
   "outputs": [],
   "source": [
    "crawler.to_jsons(Paths.JSONS_DIR)"
   ]
  },
  {
   "cell_type": "code",
   "execution_count": 4,
   "metadata": {},
   "outputs": [
    {
     "name": "stdout",
     "output_type": "stream",
     "text": [
      "ARTICLES\n",
      "ARTICLE: \"General Electric investigates claims of cyber attack, data theft\"\n",
      "\tLink: https://www.bleepingcomputer.com/news/security/general-electric-investigates-claims-of-cyber-attack-data-theft/\n",
      "\tNum Terms: 1221\n",
      "\tNum Outlinks: 78\n",
      "ARTICLE: \"Atomic Stealer malware strikes macOS via fake browser updates\"\n",
      "\tLink: https://www.bleepingcomputer.com/news/security/atomic-stealer-malware-strikes-macos-via-fake-browser-updates/\n",
      "\tNum Terms: 978\n",
      "\tNum Outlinks: 78\n",
      "ARTICLE: \"Critical bug in ownCloud file sharing app exposes admin passwords\"\n",
      "\tLink: https://www.bleepingcomputer.com/news/security/critical-bug-in-owncloud-file-sharing-app-exposes-admin-passwords/\n",
      "\tNum Terms: 1195\n",
      "\tNum Outlinks: 75\n",
      "ARTICLE: \"UK and South Korea: Hackers use zero-day in supply-chain attack\"\n",
      "\tLink: https://www.bleepingcomputer.com/news/security/uk-and-south-korea-hackers-use-zero-day-in-supply-chain-attack/\n",
      "\tNum Terms: 1163\n",
      "\tNum Outlinks: 75\n",
      "ARTICLE: \"Cyberattack on IT provider CTS impacts dozens of UK law firms\"\n",
      "\tLink: https://www.bleepingcomputer.com/news/security/cyberattack-on-it-provider-cts-impacts-dozens-of-uk-law-firms/\n",
      "\tNum Terms: 1234\n",
      "\tNum Outlinks: 77\n",
      "ARTICLE: \"Black Friday 2023: Get 25% off the Zero2Automated malware analysis course \"\n",
      "\tLink: https://www.bleepingcomputer.com/news/security/black-friday-2023-get-25-percent-off-the-zero2automated-malware-analysis-course/\n",
      "\tNum Terms: 988\n",
      "\tNum Outlinks: 75\n",
      "ARTICLE: \"Kansas courts confirm data theft, ransom demand after cyberattack\"\n",
      "\tLink: https://www.bleepingcomputer.com/news/security/kansas-courts-confirm-data-theft-ransom-demand-after-cyberattack/\n",
      "\tNum Terms: 1092\n",
      "\tNum Outlinks: 74\n",
      "ARTICLE: \"Windows Hello auth bypassed on Microsoft, Dell, Lenovo laptops\"\n",
      "\tLink: https://www.bleepingcomputer.com/news/security/windows-hello-auth-bypassed-on-microsoft-dell-lenovo-laptops/\n",
      "\tNum Terms: 1355\n",
      "\tNum Outlinks: 81\n",
      "ARTICLE: \"Welltok data breach exposes data of 8.5 million US patients\"\n",
      "\tLink: https://www.bleepingcomputer.com/news/security/welltok-data-breach-exposes-data-of-85-million-us-patients/\n",
      "\tNum Terms: 1009\n",
      "\tNum Outlinks: 77\n",
      "ARTICLE: \"Microsoft: Lazarus hackers breach CyberLink in supply chain attack\"\n",
      "\tLink: https://www.bleepingcomputer.com/news/security/microsoft-lazarus-hackers-breach-cyberlink-in-supply-chain-attack/\n",
      "\tNum Terms: 1161\n",
      "\tNum Outlinks: 81\n"
     ]
    }
   ],
   "source": [
    "print(\"ARTICLES\")\n",
    "for a in crawler.articles: print(a.to_string())"
   ]
  }
 ],
 "metadata": {
  "kernelspec": {
   "display_name": "Python 3",
   "language": "python",
   "name": "python3"
  },
  "language_info": {
   "codemirror_mode": {
    "name": "ipython",
    "version": 3
   },
   "file_extension": ".py",
   "mimetype": "text/x-python",
   "name": "python",
   "nbconvert_exporter": "python",
   "pygments_lexer": "ipython3",
   "version": "3.11.4"
  }
 },
 "nbformat": 4,
 "nbformat_minor": 2
}
