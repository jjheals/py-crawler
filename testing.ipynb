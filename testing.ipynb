{
 "cells": [
  {
   "cell_type": "code",
   "execution_count": 1,
   "metadata": {},
   "outputs": [],
   "source": [
    "from crawler.Crawler import Crawler\n",
    "from config.Paths import Paths\n",
    "from rss_feed.RSS import *"
   ]
  },
  {
   "cell_type": "code",
   "execution_count": 2,
   "metadata": {},
   "outputs": [
    {
     "name": "stdout",
     "output_type": "stream",
     "text": [
      "Indexing Bleeping Computer (https://www.bleepingcomputer.com/feed/)\n",
      "Indexing Hacker News: Newest (https://hnrss.org/newest)\n"
     ]
    }
   ],
   "source": [
    "crawler = Crawler(auto_index_feeds=True, load_storage=False)"
   ]
  },
  {
   "cell_type": "code",
   "execution_count": 3,
   "metadata": {},
   "outputs": [],
   "source": [
    "crawler.to_jsons()"
   ]
  },
  {
   "cell_type": "code",
   "execution_count": 4,
   "metadata": {},
   "outputs": [
    {
     "name": "stdout",
     "output_type": "stream",
     "text": [
      "ARTICLES\n",
      "ARTICLE: \"General Electric investigates claims of cyber attack, data theft\"\n",
      "\tLink: https://www.bleepingcomputer.com/news/security/general-electric-investigates-claims-of-cyber-attack-data-theft/\n",
      "\tNum Terms: 1221\n",
      "\tNum Outlinks: 78\n",
      "ARTICLE: \"Atomic Stealer malware strikes macOS via fake browser updates\"\n",
      "\tLink: https://www.bleepingcomputer.com/news/security/atomic-stealer-malware-strikes-macos-via-fake-browser-updates/\n",
      "\tNum Terms: 976\n",
      "\tNum Outlinks: 78\n",
      "ARTICLE: \"Critical bug in ownCloud file sharing app exposes admin passwords\"\n",
      "\tLink: https://www.bleepingcomputer.com/news/security/critical-bug-in-owncloud-file-sharing-app-exposes-admin-passwords/\n",
      "\tNum Terms: 1192\n",
      "\tNum Outlinks: 75\n",
      "ARTICLE: \"UK and South Korea: Hackers use zero-day in supply-chain attack\"\n",
      "\tLink: https://www.bleepingcomputer.com/news/security/uk-and-south-korea-hackers-use-zero-day-in-supply-chain-attack/\n",
      "\tNum Terms: 1161\n",
      "\tNum Outlinks: 75\n",
      "ARTICLE: \"Cyberattack on IT provider CTS impacts dozens of UK law firms\"\n",
      "\tLink: https://www.bleepingcomputer.com/news/security/cyberattack-on-it-provider-cts-impacts-dozens-of-uk-law-firms/\n",
      "\tNum Terms: 1231\n",
      "\tNum Outlinks: 77\n",
      "ARTICLE: \"Black Friday 2023: Get 25% off the Zero2Automated malware analysis course \"\n",
      "\tLink: https://www.bleepingcomputer.com/news/security/black-friday-2023-get-25-percent-off-the-zero2automated-malware-analysis-course/\n",
      "\tNum Terms: 986\n",
      "\tNum Outlinks: 75\n",
      "ARTICLE: \"Kansas courts confirm data theft, ransom demand after cyberattack\"\n",
      "\tLink: https://www.bleepingcomputer.com/news/security/kansas-courts-confirm-data-theft-ransom-demand-after-cyberattack/\n",
      "\tNum Terms: 1090\n",
      "\tNum Outlinks: 74\n",
      "ARTICLE: \"Windows Hello auth bypassed on Microsoft, Dell, Lenovo laptops\"\n",
      "\tLink: https://www.bleepingcomputer.com/news/security/windows-hello-auth-bypassed-on-microsoft-dell-lenovo-laptops/\n",
      "\tNum Terms: 1353\n",
      "\tNum Outlinks: 81\n",
      "ARTICLE: \"Welltok data breach exposes data of 8.5 million US patients\"\n",
      "\tLink: https://www.bleepingcomputer.com/news/security/welltok-data-breach-exposes-data-of-85-million-us-patients/\n",
      "\tNum Terms: 1007\n",
      "\tNum Outlinks: 77\n",
      "ARTICLE: \"Microsoft: Lazarus hackers breach CyberLink in supply chain attack\"\n",
      "\tLink: https://www.bleepingcomputer.com/news/security/microsoft-lazarus-hackers-breach-cyberlink-in-supply-chain-attack/\n",
      "\tNum Terms: 1159\n",
      "\tNum Outlinks: 81\n",
      "ARTICLE: \"What do humans have that LLMs don't\"\n",
      "\tLink: https://twitter.com/ylecun/status/1728867136049709208\n",
      "\tNum Terms: 70\n",
      "\tNum Outlinks: 6\n",
      "ARTICLE: \"Ask HN: Minimal JavaScript for simple UIs with Python back end\"\n",
      "\tLink: https://news.ycombinator.com/item?id=38424661\n",
      "\tNum Terms: 172\n",
      "\tNum Outlinks: 5\n",
      "ARTICLE: \"PCSX2 Disables Wayland Support\"\n",
      "\tLink: https://github.com/PCSX2/pcsx2/pull/10179\n",
      "\tNum Terms: 4072\n",
      "\tNum Outlinks: 32\n",
      "ARTICLE: \"Making God: millenarianism and manifest destiny of AI and techno-futurism\"\n",
      "\tLink: https://emilygorcenski.com/post/making-god/\n",
      "\tNum Terms: 9223\n",
      "\tNum Outlinks: 38\n",
      "ARTICLE: \"Ripgrep 14 Released\"\n",
      "\tLink: https://github.com/BurntSushi/ripgrep/releases/tag/14.0.0\n",
      "\tNum Terms: 1369\n",
      "\tNum Outlinks: 73\n",
      "ARTICLE: \"The latest superfood – what's the fuss around microgreens?\"\n",
      "\tLink: https://patient.info/news-and-features/the-latest-superfood-whats-the-fuss-around-microgreens\n",
      "\tNum Terms: 1673\n",
      "\tNum Outlinks: 17\n",
      "ARTICLE: \"Optimistic File System (OptFS) Implements Optimistic Crash Consistency\"\n",
      "\tLink: https://github.com/utsaslab/optfs\n",
      "\tNum Terms: 1412\n",
      "\tNum Outlinks: 30\n",
      "ARTICLE: \"The Day of a New Command-Line Interface\"\n",
      "\tLink: https://arcan-fe.com/2022/04/02/the-day-of-a-new-command-line-interface-shell/\n",
      "\tNum Terms: 4180\n",
      "\tNum Outlinks: 73\n",
      "ARTICLE: \"Conspiracy Theorists Accused 22 Year Old Jewish Man. Then Elon Musk Got Involved\"\n",
      "\tLink: https://www.cnn.com/2023/11/20/business/brody-musk-lawsuit-invs/index.html\n",
      "\tNum Terms: 2794\n",
      "\tNum Outlinks: 138\n",
      "ARTICLE: \"Arch Linux Developer on Switching to Systemd (2012)\"\n",
      "\tLink: https://bbs.archlinux.org/viewtopic.php?id=147272&p=2\n",
      "\tNum Terms: 5430\n",
      "\tNum Outlinks: 19\n",
      "ARTICLE: \"My Year-Long Struggle Against a Call of Duty False Permanent Ban\"\n",
      "\tLink: https://blog.mikeswanson.com/post/735082689953169408/my-year-long-struggle-against-a-call-of-duty-false\n",
      "\tNum Terms: 6407\n",
      "\tNum Outlinks: 47\n",
      "ARTICLE: \"In the office auto-reply emails for a hybrid work schedule\"\n",
      "\tLink: https://www.mcsweeneys.net/articles/in-the-office-auto-reply-emails-for-a-hybrid-work-schedule\n",
      "\tNum Terms: 1417\n",
      "\tNum Outlinks: 30\n",
      "ARTICLE: \"KYWY - Embedded development gaming and learning platform\"\n",
      "\tLink: http://www.kywy.io/\n",
      "\tNum Terms: 197\n",
      "\tNum Outlinks: 7\n",
      "ARTICLE: \"Advice for time traveling to medieval Europe [video]\"\n",
      "\tLink: https://www.youtube.com/watch?v=-aSdFrPnlRg\n",
      "\tNum Terms: 19\n",
      "\tNum Outlinks: 9\n",
      "ARTICLE: \"Preserving digital content is vital. But paying 38000 for the privilege is not\"\n",
      "\tLink: https://www.theguardian.com/commentisfree/2023/nov/25/wordpress-preserve-digital-content-100-years\n",
      "\tNum Terms: 1185\n",
      "\tNum Outlinks: 40\n",
      "ARTICLE: \"Show HN: The Buckaroo Data Table for Jupyter\"\n",
      "\tLink: https://github.com/paddymul/buckaroo\n",
      "\tNum Terms: 1968\n",
      "\tNum Outlinks: 50\n",
      "ARTICLE: \"India plans to triple underground coal mining to meet energy demand\"\n",
      "\tLink: https://www.ft.com/content/eaa2595a-ecce-4f5e-a4c1-63c99293563d\n",
      "\tNum Terms: 713\n",
      "\tNum Outlinks: 47\n",
      "ARTICLE: \"Offline for turkey time: Which US states logged off on Thanksgiving Day?\"\n",
      "\tLink: https://blog.cloudflare.com/do-hackers-eat-turkey-and-other-thanksgiving-internet-trends/\n",
      "\tNum Terms: 2132\n",
      "\tNum Outlinks: 61\n",
      "ARTICLE: \"CASS-EDI significant space program Forth program source code\"\n",
      "\tLink: https://github.com/sweisman/cass-edi\n",
      "\tNum Terms: 2542\n",
      "\tNum Outlinks: 28\n",
      "ARTICLE: \"Who has built a SaaS business using NoCode tools?\"\n",
      "\tLink: https://news.ycombinator.com/item?id=38424426\n",
      "\tNum Terms: 61\n",
      "\tNum Outlinks: 5\n"
     ]
    }
   ],
   "source": [
    "print(\"ARTICLES\")\n",
    "for a in crawler.articles: print(a.to_string())"
   ]
  }
 ],
 "metadata": {
  "kernelspec": {
   "display_name": "Python 3",
   "language": "python",
   "name": "python3"
  },
  "language_info": {
   "codemirror_mode": {
    "name": "ipython",
    "version": 3
   },
   "file_extension": ".py",
   "mimetype": "text/x-python",
   "name": "python",
   "nbconvert_exporter": "python",
   "pygments_lexer": "ipython3",
   "version": "3.11.4"
  }
 },
 "nbformat": 4,
 "nbformat_minor": 2
}
