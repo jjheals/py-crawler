{
 "cells": [
  {
   "cell_type": "code",
   "execution_count": 1,
   "metadata": {},
   "outputs": [],
   "source": [
    "from Crawler import Crawler\n",
    "from Paths import Paths\n",
    "from rss_feed.RSS import *"
   ]
  },
  {
   "cell_type": "code",
   "execution_count": 2,
   "metadata": {},
   "outputs": [
    {
     "name": "stderr",
     "output_type": "stream",
     "text": [
      "[nltk_data] Downloading package stopwords to\n",
      "[nltk_data]     /Users/jjheals/nltk_data...\n",
      "[nltk_data]   Package stopwords is already up-to-date!\n"
     ]
    },
    {
     "data": {
      "text/plain": [
       "True"
      ]
     },
     "execution_count": 2,
     "metadata": {},
     "output_type": "execute_result"
    }
   ],
   "source": [
    "import nltk\n",
    "import ssl\n",
    "\n",
    "try:\n",
    "    _create_unverified_https_context = ssl._create_unverified_context\n",
    "except AttributeError:\n",
    "    pass\n",
    "else:\n",
    "    ssl._create_default_https_context = _create_unverified_https_context\n",
    "\n",
    "nltk.download('stopwords')"
   ]
  },
  {
   "cell_type": "code",
   "execution_count": 3,
   "metadata": {},
   "outputs": [
    {
     "name": "stdout",
     "output_type": "stream",
     "text": [
      "Indexing Bleeping Computer (https://www.bleepingcomputer.com/feed/)\n"
     ]
    }
   ],
   "source": [
    "url = 'https://www.bleepingcomputer.com/feed/'\n",
    "crawler = Crawler(auto_index_feeds=True, load_storage=False)"
   ]
  },
  {
   "cell_type": "code",
   "execution_count": 4,
   "metadata": {},
   "outputs": [],
   "source": [
    "crawler.to_jsons(Paths.JSONS_DIR)"
   ]
  },
  {
   "cell_type": "code",
   "execution_count": 5,
   "metadata": {},
   "outputs": [
    {
     "name": "stdout",
     "output_type": "stream",
     "text": [
      "ARTICLES\n",
      "ARTICLE: \"American Airlines pilot union hit by ransomware attack\n",
      "\tLink: https://www.bleepingcomputer.com/news/security/american-airlines-pilot-union-hit-by-ransomware-attack/\n",
      "\tNum Terms: 947\n",
      "\tNum Outlinks: 75\n",
      "ARTICLE: \"Google Play adds security audit badges for Android VPN apps\n",
      "\tLink: https://www.bleepingcomputer.com/news/security/google-play-adds-security-audit-badges-for-android-vpn-apps/\n",
      "\tNum Terms: 999\n",
      "\tNum Outlinks: 76\n",
      "ARTICLE: \"New Microsoft Exchange zero-days allow RCE, data theft attacks\n",
      "\tLink: https://www.bleepingcomputer.com/news/microsoft/new-microsoft-exchange-zero-days-allow-rce-data-theft-attacks/\n",
      "\tNum Terms: 995\n",
      "\tNum Outlinks: 75\n",
      "ARTICLE: \"Okta breach: 134 customers exposed in October support system hack\n",
      "\tLink: https://www.bleepingcomputer.com/news/security/okta-breach-134-customers-exposed-in-october-support-system-hack/\n",
      "\tNum Terms: 1101\n",
      "\tNum Outlinks: 74\n",
      "ARTICLE: \"Atlassian warns of exploit for Confluence data wiping bug, get patching\n",
      "\tLink: https://www.bleepingcomputer.com/news/security/atlassian-warns-of-exploit-for-confluence-data-wiping-bug-get-patching/\n",
      "\tNum Terms: 1073\n",
      "\tNum Outlinks: 74\n",
      "ARTICLE: \"Ace Hardware says 1,202 devices were hit during cyberattack\n",
      "\tLink: https://www.bleepingcomputer.com/news/security/ace-hardware-says-1-202-devices-were-hit-during-cyberattack/\n",
      "\tNum Terms: 1573\n",
      "\tNum Outlinks: 83\n",
      "ARTICLE: \"New macOS 'KandyKorn' malware targets cryptocurrency engineers\n",
      "\tLink: https://www.bleepingcomputer.com/news/security/new-macos-kandykorn-malware-targets-cryptocurrency-engineers/\n",
      "\tNum Terms: 1190\n",
      "\tNum Outlinks: 73\n",
      "ARTICLE: \"BlackCat ransomware claims breach of healthcare giant Henry Schein\n",
      "\tLink: https://www.bleepingcomputer.com/news/security/blackcat-ransomware-claims-breach-of-healthcare-giant-henry-schein/\n",
      "\tNum Terms: 1058\n",
      "\tNum Outlinks: 78\n",
      "ARTICLE: \"Mortgage giant Mr. Cooper hit by cyberattack impacting IT systems\n",
      "\tLink: https://www.bleepingcomputer.com/news/security/mortgage-giant-mr-cooper-hit-by-cyberattack-impacting-it-systems/\n",
      "\tNum Terms: 1324\n",
      "\tNum Outlinks: 83\n",
      "ARTICLE: \"HelloKitty ransomware now exploiting Apache ActiveMQ flaw in attacks\n",
      "\tLink: https://www.bleepingcomputer.com/news/security/hellokitty-ransomware-now-exploiting-apache-activemq-flaw-in-attacks/\n",
      "\tNum Terms: 1011\n",
      "\tNum Outlinks: 77\n",
      "ARTICLE: \"Cloudflare Dashboard and APIs down after data center power outage\n",
      "\tLink: https://www.bleepingcomputer.com/news/security/cloudflare-dashboard-and-apis-down-after-data-center-power-outage/\n",
      "\tNum Terms: 1116\n",
      "\tNum Outlinks: 72\n",
      "ARTICLE: \"Boeing confirms cyberattack amid LockBit ransomware claims\n",
      "\tLink: https://www.bleepingcomputer.com/news/security/boeing-confirms-cyberattack-amid-lockbit-ransomware-claims/\n",
      "\tNum Terms: 1007\n",
      "\tNum Outlinks: 77\n",
      "ARTICLE: \"Microsoft pledges to bolster security as part of ‘Secure Future’ initiative\n",
      "\tLink: https://www.bleepingcomputer.com/news/microsoft/microsoft-pledges-to-bolster-security-as-part-of-secure-future-initiative/\n",
      "\tNum Terms: 1172\n",
      "\tNum Outlinks: 73\n"
     ]
    }
   ],
   "source": [
    "print(\"ARTICLES\")\n",
    "for a in crawler.articles: print(a.to_string())"
   ]
  }
 ],
 "metadata": {
  "kernelspec": {
   "display_name": "Python 3",
   "language": "python",
   "name": "python3"
  },
  "language_info": {
   "codemirror_mode": {
    "name": "ipython",
    "version": 3
   },
   "file_extension": ".py",
   "mimetype": "text/x-python",
   "name": "python",
   "nbconvert_exporter": "python",
   "pygments_lexer": "ipython3",
   "version": "3.11.1"
  }
 },
 "nbformat": 4,
 "nbformat_minor": 2
}
